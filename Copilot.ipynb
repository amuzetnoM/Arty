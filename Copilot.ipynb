{
  "nbformat": 4,
  "nbformat_minor": 0,
  "metadata": {
    "colab": {
      "provenance": [],
      "authorship_tag": "ABX9TyPFAoIhuS865JRtTmTP1+8Z",
      "include_colab_link": true
    },
    "kernelspec": {
      "name": "python3",
      "display_name": "Python 3"
    },
    "language_info": {
      "name": "python"
    }
  },
  "cells": [
    {
      "cell_type": "markdown",
      "metadata": {
        "id": "view-in-github",
        "colab_type": "text"
      },
      "source": [
        "<a href=\"https://colab.research.google.com/github/amuzetnoM/Arty/blob/main/Copilot.ipynb\" target=\"_parent\"><img src=\"https://colab.research.google.com/assets/colab-badge.svg\" alt=\"Open In Colab\"/></a>"
      ]
    },
    {
      "cell_type": "markdown",
      "source": [
        "Install Dependencies  (once per runtime)"
      ],
      "metadata": {
        "id": "wGVaVDHiVUaT"
      }
    },
    {
      "cell_type": "code",
      "source": [
        "!pip install pdfminer.six\n",
        "!pip install PyPDF2\n",
        "!pip install pycryptodome\n",
        "!pip install langchain\n",
        "!git lfs install\n",
        "!pip install transformers\n",
        "!pip install -U sentence-transformers\n",
        "!pip install --upgrade transformers\n",
        "!pip nltk.download('punkt')\n",
        "!pip install nltk\n",
        "!pip install chromadb\n",
        "!pip install --upgrade accelerate\n",
        "!pip install textract\n",
        "!apt-get install -y poppler-utils\n",
        "!pip install ."
      ],
      "metadata": {
        "id": "BdntpLZ9Eo1G"
      },
      "execution_count": null,
      "outputs": []
    },
    {
      "cell_type": "markdown",
      "source": [
        "# START"
      ],
      "metadata": {
        "id": "ZKA_d-23VhDc"
      }
    },
    {
      "cell_type": "markdown",
      "source": [
        "1) Upload Data as .PFD or .TXT, \n",
        "2) Execute runtime."
      ],
      "metadata": {
        "id": "ns-mFmNlVIWF"
      }
    },
    {
      "cell_type": "code",
      "source": [
        "import os\n",
        "import textract\n",
        "\n",
        "# Define the folder name\n",
        "folder_name = \"new_data_set\"\n",
        "\n",
        "# Check if the folder exists\n",
        "if os.path.exists(folder_name):\n",
        "    print(\"Folder already exists. Skipping...\")\n",
        "else:\n",
        "    # Create the folder\n",
        "    os.mkdir(folder_name)\n",
        "    print(\"Folder created successfully.\")\n",
        "\n",
        "# Define the folder path\n",
        "folder_path = \"/content\"\n",
        "\n",
        "# Get the list of files in the folder\n",
        "files = os.listdir(folder_path)\n",
        "\n",
        "# Initialize an empty list to store text file paths\n",
        "txt_files = []\n",
        "\n",
        "# Process each file in the folder\n",
        "for file in files:\n",
        "    file_path = os.path.join(folder_path, file)\n",
        "    if file.endswith(\".pdf\"):\n",
        "        # Convert PDF to text\n",
        "        text = textract.process(file_path).decode(\"utf-8\")\n",
        "        # Create a new text file with the same name\n",
        "        new_file_path = os.path.join(folder_name, os.path.splitext(file)[0] + \".txt\")\n",
        "        with open(new_file_path, \"w\") as f:\n",
        "            f.write(text)\n",
        "        txt_files.append(new_file_path)\n",
        "    elif file.endswith(\".txt\"):\n",
        "        # Skip existing text files\n",
        "        txt_files.append(file_path)\n",
        "\n",
        "# Join all text files into a single file\n",
        "output_file_path = os.path.join(folder_name, \"tr_ds.txt\")\n",
        "with open(output_file_path, \"w\") as f:\n",
        "    for txt_file in txt_files:\n",
        "        with open(txt_file, \"r\") as txt:\n",
        "            f.write(txt.read())\n",
        "\n",
        "print(\"Text files merged and saved successfully. File name: tr_ds.txt\")"
      ],
      "metadata": {
        "colab": {
          "base_uri": "https://localhost:8080/"
        },
        "id": "hGhDwD5yQuZg",
        "outputId": "3a8850f8-dc0d-48e5-f922-fa0ca9ca3dbc"
      },
      "execution_count": 18,
      "outputs": [
        {
          "output_type": "stream",
          "name": "stdout",
          "text": [
            "Folder already exists. Skipping...\n",
            "Text files merged and saved successfully. File name: tr_ds.txt\n"
          ]
        }
      ]
    },
    {
      "cell_type": "code",
      "execution_count": 19,
      "metadata": {
        "colab": {
          "base_uri": "https://localhost:8080/"
        },
        "id": "e4mk3OKRCq24",
        "outputId": "bea84971-723d-44ed-844a-e06861c8aabc"
      },
      "outputs": [
        {
          "output_type": "stream",
          "name": "stdout",
          "text": [
            "length of dataset in characters:  444509\n"
          ]
        }
      ],
      "source": [
        "# read it in to inspect it\n",
        "with open('/content/new_data_set/tr_ds.txt', 'r', encoding='utf-8') as f:\n",
        "    text = f.read()\n",
        "\n",
        "    print(\"length of dataset in characters: \", len(text))"
      ]
    },
    {
      "cell_type": "code",
      "source": [
        "# Read the contents of the text file\n",
        "with open(\"/content/new_data_set/tr_ds.txt\", \"r\") as file:\n",
        "    content = file.read()\n",
        "\n",
        "# Print a small preview of the file\n",
        "preview_length = 50000  # PREVIEW LENGTH - ADJUSTABLE\n",
        "preview = content[:preview_length]\n",
        "print(\"Preview of the text file:\")\n",
        "print(preview)"
      ],
      "metadata": {
        "id": "WM3rWVb6T34B"
      },
      "execution_count": null,
      "outputs": []
    }
  ]
}